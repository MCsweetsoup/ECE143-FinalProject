{
 "cells": [
  {
   "cell_type": "code",
   "execution_count": 53,
   "id": "aedf9553",
   "metadata": {},
   "outputs": [],
   "source": [
    "import numpy as np\n",
    "import pandas as pd\n",
    "import matplotlib.pyplot as plt\n",
    "from matplotlib import cm"
   ]
  },
  {
   "cell_type": "code",
   "execution_count": 2,
   "id": "1a6f7dcc",
   "metadata": {},
   "outputs": [],
   "source": [
    "data = pd.read_csv('poverty.csv')"
   ]
  },
  {
   "cell_type": "code",
   "execution_count": 14,
   "id": "1f4e1f57",
   "metadata": {},
   "outputs": [
    {
     "name": "stdout",
     "output_type": "stream",
     "text": [
      "       ind_id                                     ind_definition reportyear  \\\n",
      "0         754  Overall, Concentrated, and Child (under 18 yea...  2011-2015   \n",
      "1         754  Overall, Concentrated, and Child (under 18 yea...  2011-2015   \n",
      "2         754  Overall, Concentrated, and Child (under 18 yea...  2011-2015   \n",
      "3         754  Overall, Concentrated, and Child (under 18 yea...  2011-2015   \n",
      "4         754  Overall, Concentrated, and Child (under 18 yea...  2011-2015   \n",
      "...       ...                                                ...        ...   \n",
      "32000     754  Overall, Concentrated, and Child (under 18 yea...  2012-2016   \n",
      "32001     754  Overall, Concentrated, and Child (under 18 yea...  2012-2016   \n",
      "32002     754  Overall, Concentrated, and Child (under 18 yea...  2012-2016   \n",
      "32003     754  Overall, Concentrated, and Child (under 18 yea...  2012-2016   \n",
      "32004     754  Overall, Concentrated, and Child (under 18 yea...  2012-2016   \n",
      "\n",
      "       race_eth_code race_eth_name geotype  geotypevalue              geoname  \\\n",
      "0                  7      Multiple      CA             6           California   \n",
      "1                  1          AIAN      CA             6           California   \n",
      "2                  2         Asian      CA             6           California   \n",
      "3                  4        Latino      CA             6           California   \n",
      "4                  8         Other      CA             6           California   \n",
      "...              ...           ...     ...           ...                  ...   \n",
      "32000              2         Asian      RE            14  Southern California   \n",
      "32001              7      Multiple      RE            14  Southern California   \n",
      "32002              4        Latino      RE            14  Southern California   \n",
      "32003              1          AIAN      RE            14  Southern California   \n",
      "32004              9         Total      RE            14  Southern California   \n",
      "\n",
      "      county_name  county_fips  ... numerator  denominator   estimate  \\\n",
      "0             NaN          NaN  ...    307749      1042924  29.508286   \n",
      "1             NaN          NaN  ...     60309       136280  44.253742   \n",
      "2             NaN          NaN  ...   1365258      5117510  26.678170   \n",
      "3             NaN          NaN  ...   7537237     14494492  52.000698   \n",
      "4             NaN          NaN  ...     29496        82902  35.579359   \n",
      "...           ...          ...  ...       ...          ...        ...   \n",
      "32000         NaN          NaN  ...    120632       412238  29.262707   \n",
      "32001         NaN          NaN  ...     44462       169723  26.196803   \n",
      "32002         NaN          NaN  ...   1641783      2658463  61.756850   \n",
      "32003         NaN          NaN  ...      4154         8934  46.496530   \n",
      "32004         NaN          NaN  ...   2181129      4462599  48.875756   \n",
      "\n",
      "         LL_95CI    UL_95CI        SE       RSE  CA_decile     CA_RR  \\\n",
      "0      28.918003  30.098569  0.301165  1.020611        NaN  1.000000   \n",
      "1      42.160649  46.346836  1.067905  2.413140        NaN  1.000000   \n",
      "2      26.362390  26.993949  0.161112  0.603909        NaN  1.000000   \n",
      "3      51.659380  52.342016  0.174142  0.334884        NaN  1.000000   \n",
      "4      33.306869  37.851849  1.159434  3.258725        NaN  1.000000   \n",
      "...          ...        ...       ...       ...        ...       ...   \n",
      "32000  28.296737  30.228678  0.492842  1.684198        NaN  1.043436   \n",
      "32001  24.376319  28.017287  0.928818  3.545541        NaN  0.929269   \n",
      "32002  61.278006  62.235693  0.244308  0.395597        NaN  1.007133   \n",
      "32003  38.743778  54.249283  3.955486  8.507056        NaN  0.866243   \n",
      "32004  48.515736  49.235777  0.183684  0.375818        NaN  1.057530   \n",
      "\n",
      "                        version  \n",
      "0      Wed Oct 03 10:12:53 2018  \n",
      "1      Wed Oct 03 10:12:53 2018  \n",
      "2      Wed Oct 03 10:12:53 2018  \n",
      "3      Wed Oct 03 10:12:53 2018  \n",
      "4      Wed Oct 03 10:12:53 2018  \n",
      "...                         ...  \n",
      "32000  Mon Oct 01 11:10:59 2018  \n",
      "32001  Mon Oct 01 11:10:59 2018  \n",
      "32002  Mon Oct 01 11:10:59 2018  \n",
      "32003  Mon Oct 01 11:10:59 2018  \n",
      "32004  Mon Oct 01 11:10:59 2018  \n",
      "\n",
      "[32005 rows x 26 columns]\n"
     ]
    }
   ],
   "source": [
    "print(data)"
   ]
  },
  {
   "cell_type": "code",
   "execution_count": 30,
   "id": "0fbbaf68",
   "metadata": {},
   "outputs": [],
   "source": [
    "estimate_by_county = data.loc[data['race_eth_name'] == 'Total'][['estimate', 'county_name']]\n",
    "estimate_by_county = estimate_by_county.dropna()\n",
    "avg_est_county = estimate_by_county.groupby('county_name').mean()\n",
    "\n",
    "top10_est_county = avg_est_county.sort_values(by=['estimate'], ascending=False).head(10)\n",
    "print(top10_est_county)"
   ]
  },
  {
   "cell_type": "code",
   "execution_count": 57,
   "id": "b3ff2f96",
   "metadata": {},
   "outputs": [
    {
     "data": {
      "text/plain": [
       "Text(0.5, 1.0, 'top 10 county with respective estimated poverty percentage')"
      ]
     },
     "execution_count": 57,
     "metadata": {},
     "output_type": "execute_result"
    },
    {
     "data": {
      "image/png": "[encoded data removed]",
      "text/plain": [
       "<Figure size 720x576 with 1 Axes>"
      ]
     },
     "metadata": {
      "needs_background": "light"
     },
     "output_type": "display_data"
    }
   ],
   "source": [
    "plt.figure(figsize=(10, 8))\n",
    "\n",
    "x = list(top10_est_county.index)\n",
    "y = top10_est_county['estimate']\n",
    "for i in range(len(x)):\n",
    "    plt.bar(x[i], y[i], color=cm.jet(1. * (len(x) - i) / len(x)))\n",
    "    \n",
    "plt.xlabel('county name')\n",
    "plt.ylabel('estimated percent of families in poverty')\n",
    "plt.title('top 10 county with respective estimated poverty percentage')"
   ]
  },
  {
   "cell_type": "code",
   "execution_count": null,
   "id": "b4ff893e",
   "metadata": {},
   "outputs": [],
   "source": []
  },
  {
   "cell_type": "code",
   "execution_count": null,
   "id": "3e3bd131",
   "metadata": {},
   "outputs": [],
   "source": []
  },
  {
   "cell_type": "code",
   "execution_count": 58,
   "id": "c427d790",
   "metadata": {},
   "outputs": [
    {
     "name": "stdout",
     "output_type": "stream",
     "text": [
      "                estimate\n",
      "race_eth_name           \n",
      "AIAN           56.243495\n",
      "AfricanAm      47.645574\n",
      "Asian          27.753202\n",
      "Latino         49.722367\n",
      "Multiple       30.987263\n",
      "NHOPI          57.114103\n",
      "Other          50.491672\n",
      "Total          36.837857\n",
      "White          25.433010\n"
     ]
    }
   ],
   "source": [
    "estimate_by_race = data[['estimate', 'race_eth_name']]\n",
    "estimate_by_race = estimate_by_race.dropna()\n",
    "avg_est_race = estimate_by_race.groupby('race_eth_name').mean()\n",
    "\n",
    "# top10_est_county = avg_est_county.sort_values(by=['estimate'], ascending=False).head(10)\n",
    "print(avg_est_race)"
   ]
  },
  {
   "cell_type": "code",
   "execution_count": 60,
   "id": "a20aae62",
   "metadata": {},
   "outputs": [
    {
     "data": {
      "text/plain": [
       "Text(0.5, 1.0, 'percentage of families in poverty over different races')"
      ]
     },
     "execution_count": 60,
     "metadata": {},
     "output_type": "execute_result"
    },
    {
     "data": {
      "image/png": "[encoded data removed]",
      "text/plain": [
       "<Figure size 720x576 with 1 Axes>"
      ]
     },
     "metadata": {
      "needs_background": "light"
     },
     "output_type": "display_data"
    }
   ],
   "source": [
    "plt.figure(figsize=(10, 8))\n",
    "\n",
    "x = list(avg_est_race.index)\n",
    "y = avg_est_race['estimate']\n",
    "for i in range(len(x)):\n",
    "    plt.bar(x[i], y[i], color=cm.jet(1. * (len(x) - i) / len(x)))\n",
    "    \n",
    "plt.xlabel('race/ethnicity')\n",
    "plt.ylabel('estimated percent of families in poverty')\n",
    "plt.title('percentage of families in poverty over different races')"
   ]
  },
  {
   "cell_type": "code",
   "execution_count": null,
   "id": "70a832e5",
   "metadata": {},
   "outputs": [],
   "source": []
  },
  {
   "cell_type": "code",
   "execution_count": null,
   "id": "3714a6cc",
   "metadata": {},
   "outputs": [],
   "source": []
  },
  {
   "cell_type": "code",
   "execution_count": null,
   "id": "c3d83a0d",
   "metadata": {},
   "outputs": [],
   "source": []
  }
 ],
 "metadata": {
  "kernelspec": {
   "display_name": "Python 3",
   "language": "python",
   "name": "python3"
  },
  "language_info": {
   "codemirror_mode": {
    "name": "ipython",
    "version": 3
   },
   "file_extension": ".py",
   "mimetype": "text/x-python",
   "name": "python",
   "nbconvert_exporter": "python",
   "pygments_lexer": "ipython3",
   "version": "3.8.5"
  }
 },
 "nbformat": 4,
 "nbformat_minor": 5
}
